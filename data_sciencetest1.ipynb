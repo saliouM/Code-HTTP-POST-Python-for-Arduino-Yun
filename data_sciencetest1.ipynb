{
  "nbformat": 4,
  "nbformat_minor": 0,
  "metadata": {
    "colab": {
      "provenance": [],
      "authorship_tag": "ABX9TyOCrvFMeWH4OhOrW53Djc5s",
      "include_colab_link": true
    },
    "kernelspec": {
      "name": "python3",
      "display_name": "Python 3"
    },
    "language_info": {
      "name": "python"
    }
  },
  "cells": [
    {
      "cell_type": "markdown",
      "metadata": {
        "id": "view-in-github",
        "colab_type": "text"
      },
      "source": [
        "<a href=\"https://colab.research.google.com/github/saliouM/Code-HTTP-POST-Python-for-Arduino-Yun/blob/main/data_sciencetest1.ipynb\" target=\"_parent\"><img src=\"https://colab.research.google.com/assets/colab-badge.svg\" alt=\"Open In Colab\"/></a>"
      ]
    },
    {
      "cell_type": "code",
      "execution_count": 2,
      "metadata": {
        "colab": {
          "base_uri": "https://localhost:8080/"
        },
        "id": "Jm1dJjTcac5n",
        "outputId": "5d75e577-f29d-42bc-b568-d3bf2e73b0fe"
      },
      "outputs": [
        {
          "output_type": "stream",
          "name": "stdout",
          "text": [
            "hello\n"
          ]
        }
      ],
      "source": [
        "print(\"hello\")"
      ]
    },
    {
      "cell_type": "markdown",
      "source": [
        "# **Découvrons les bibliothèque data science:**"
      ],
      "metadata": {
        "id": "VVeCG_PZbvxr"
      }
    },
    {
      "cell_type": "markdown",
      "source": [
        "* Découvrons Numpy\n",
        "\n",
        " **Diminutif de Numerical Python,elle fournit un ensemble de fonctions pour effectuer efficacement des opérations sur les données, mais propose également un objet qui est au cœur de presque tout l’écosystème data en Python : l’array.**\n",
        "\n"
      ],
      "metadata": {
        "id": "ZIYe3f0Wb_6y"
      }
    },
    {
      "cell_type": "code",
      "source": [
        "revenus = [1800, 1500, 2200, 3000, 2172]"
      ],
      "metadata": {
        "id": "i1Ml3kGEa57C"
      },
      "execution_count": 3,
      "outputs": []
    }
  ]
}